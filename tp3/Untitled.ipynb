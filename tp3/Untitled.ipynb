{
 "cells": [
  {
   "cell_type": "code",
   "execution_count": 1,
   "metadata": {},
   "outputs": [
    {
     "name": "stderr",
     "output_type": "stream",
     "text": [
      "/home/marto/.local/lib/python3.5/site-packages/matplotlib/__init__.py:913: UserWarning: axes.color_cycle is deprecated and replaced with axes.prop_cycle; please use the latter.\n",
      "  warnings.warn(self.msg_depr % (key, alt_key))\n"
     ]
    }
   ],
   "source": [
    "import numpy as np\n",
    "from scipy.io import loadmat\n",
    "from scipy.fftpack import fft\n",
    "from scipy.signal import welch\n",
    "import matplotlib.pyplot as plt\n",
    "import os\n",
    "import pandas as pd\n",
    "import seaborn as sns\n",
    "sns.set_style(\"whitegrid\")"
   ]
  },
  {
   "cell_type": "code",
   "execution_count": null,
   "metadata": {
    "collapsed": true
   },
   "outputs": [],
   "source": [
    "# Funciones auxiliares para levantar data\n",
    "def armarNombre(x):\n",
    "    c = 'S' if x < 11 else 'P'\n",
    "    x = (x-1)%10+1\n",
    "    return str(c) + (\"\" if x == 10 else \"0\") + str(x)\n",
    "\n",
    "def armarNombreArchivo(c, x):\n",
    "    return \"data/\" + str(c) + (\"\" if x == 10 else \"0\") + str(x) + \".mat\""
   ]
  },
  {
   "cell_type": "code",
   "execution_count": 46,
   "metadata": {
    "collapsed": true
   },
   "outputs": [],
   "source": [
    "# Funcion auxiliar para pasar valores de frecuencia a bines\n",
    "#    Delta < 4 Hz\n",
    "#    4 Hz <= Theta < 8 Hz\n",
    "#    8 Hz <= Alpha < 13 Hz\n",
    "#    13 Hz <= Beta < 30 Hz\n",
    "#    30 Hz <= Gamma < Nyquist\n",
    "\n",
    "def nombre_banda(x):\n",
    "    if x < 4:\n",
    "        return 'Delta'\n",
    "    elif x < 8:\n",
    "        return 'Theta'\n",
    "    elif x < 13:\n",
    "        return 'Alpha'\n",
    "    elif x < 30:\n",
    "        return 'Beta'\n",
    "    else:\n",
    "        return 'Gamma'\n",
    "    \n",
    "\n",
    "\n",
    "\n",
    "\n",
    "\n",
    "def bin_de_frecuencia(x):\n",
    "    if x < 4.:\n",
    "        return 0\n",
    "    elif x < 8.:\n",
    "        return 1\n",
    "    elif x < 13.:\n",
    "        return 2\n",
    "    elif x < 30.:\n",
    "        return 3\n",
    "    else:\n",
    "        return 4\n",
    "    \n",
    "def agrupar_por_bines(potencias, frecuencias):\n",
    "    res = np.zeros(5)\n",
    "    for i in range(len(potencias)):\n",
    "        res[bin_de_frecuencia(frecuencias[i])] += potencias[i]\n",
    "    return res"
   ]
  },
  {
   "cell_type": "code",
   "execution_count": 20,
   "metadata": {},
   "outputs": [
    {
     "name": "stdout",
     "output_type": "stream",
     "text": [
      "P01 -- cargado\n",
      "S10 -- cargado\n"
     ]
    }
   ],
   "source": [
    "pacientes_raw = {}\n",
    "for f in os.listdir('./data'):\n",
    "    fname = \"./data/\"+f \n",
    "    print(f[:-4] + ' -- cargado')\n",
    "    pacientes_raw[f[:-4]] = (loadmat(fname)['data'])\n",
    "    "
   ]
  },
  {
   "cell_type": "code",
   "execution_count": 29,
   "metadata": {},
   "outputs": [
    {
     "name": "stderr",
     "output_type": "stream",
     "text": [
      "/home/marto/.local/lib/python3.5/site-packages/scipy/signal/spectral.py:1633: UserWarning: nperseg = 256 is greater than input length  = 201, using nperseg = 201\n",
      "  .format(nperseg, input_length))\n"
     ]
    }
   ],
   "source": [
    "welches = {}\n",
    "coso = []\n",
    "for paciente in pacientes_raw:\n",
    "    for epoch in pacientes_raw[paciente]:\n",
    "        for electrodo in epoch:\n",
    "            welches[paciente] = welch(electrodo,fs= 201/1.54)\n",
    "            #print('hice algo')\n",
    "            coso = welches[paciente]\n",
    "            break\n",
    "        break\n",
    "    break"
   ]
  },
  {
   "cell_type": "code",
   "execution_count": null,
   "metadata": {
    "collapsed": true
   },
   "outputs": [],
   "source": []
  },
  {
   "cell_type": "code",
   "execution_count": 51,
   "metadata": {},
   "outputs": [
    {
     "name": "stdout",
     "output_type": "stream",
     "text": [
      "{'Gamma': 53, 'Delta': 6, 'Theta': 5, 'Beta': 25, 'Alpha': 7}\n"
     ]
    },
    {
     "data": {
      "image/png": "[encoded data removed]",
      "text/plain": [
       "<matplotlib.figure.Figure at 0x7f1ad2d40e48>"
      ]
     },
     "metadata": {},
     "output_type": "display_data"
    }
   ],
   "source": [
    "plt.plot(coso[0],coso[1])\n",
    "bandas = {}\n",
    "for c in coso[0]:\n",
    "    b = nombre_banda(c) \n",
    "    try:\n",
    "        bandas[b] += 1 \n",
    "    except KeyError:\n",
    "        bandas[b] = 0\n",
    "print(bandas)\n",
    "plt.show()"
   ]
  }
 ],
 "metadata": {
  "kernelspec": {
   "display_name": "Python 3",
   "language": "python",
   "name": "python3"
  },
  "language_info": {
   "codemirror_mode": {
    "name": "ipython",
    "version": 3
   },
   "file_extension": ".py",
   "mimetype": "text/x-python",
   "name": "python",
   "nbconvert_exporter": "python",
   "pygments_lexer": "ipython3",
   "version": "3.5.2"
  }
 },
 "nbformat": 4,
 "nbformat_minor": 2
}
