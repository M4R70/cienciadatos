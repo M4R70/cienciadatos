{
 "cells": [
  {
   "cell_type": "code",
   "execution_count": 42,
   "metadata": {
    "collapsed": false
   },
   "outputs": [],
   "source": [
    "import numpy as np\n",
    "from scipy.io import loadmat\n",
    "from scipy.fftpack import fft\n",
    "from scipy.signal import welch\n",
    "import matplotlib.pyplot as plt\n",
    "import os\n",
    "import pandas as pd\n",
    "import seaborn as sns\n",
    "from sklearn.metrics import roc_curve, auc\n",
    "from sklearn.model_selection import train_test_split\n",
    "\n",
    "from sklearn import svm\n",
    "from sklearn.multiclass import OneVsRestClassifier\n",
    "sns.set_style(\"whitegrid\")\n",
    "\n",
    "import networkx as nx"
   ]
  },
  {
   "cell_type": "code",
   "execution_count": 43,
   "metadata": {
    "collapsed": true
   },
   "outputs": [],
   "source": [
    "def agregar_al_mapa(l, m, g):\n",
    "    for x in l:\n",
    "        if x not in m.keys():\n",
    "            m[x] = len(m)\n",
    "            g[m[x]] = {}\n",
    "    for x in l:\n",
    "        for y in l:\n",
    "            if x != y:\n",
    "                if m[y] not in g[m[x]].keys():\n",
    "                    g[m[x]][m[y]] = 0\n",
    "                g[m[x]][m[y]] += 1"
   ]
  },
  {
   "cell_type": "code",
   "execution_count": 44,
   "metadata": {
    "collapsed": false
   },
   "outputs": [],
   "source": [
    "def armar_grafo(num_autor, grafo):\n",
    "    with(open(\"data.csv\")) as f:\n",
    "        for l in f:\n",
    "            a = l.split(\",\")[3].split(\"&\")\n",
    "            agregar_al_mapa(a, num_autor, aristas)\n",
    "    lista = []\n",
    "    for x in aristas.keys():\n",
    "        for y in aristas[x].keys():\n",
    "            lista.append((x,y,aristas[x][y]))\n",
    "    grafo.add_weighted_edges_from(lista)"
   ]
  },
  {
   "cell_type": "code",
   "execution_count": 45,
   "metadata": {
    "collapsed": false
   },
   "outputs": [],
   "source": [
    "num_autor = {}\n",
    "grafo = nx.Graph()\n",
    "armar_grafo(num_autor, grafo)"
   ]
  },
  {
   "cell_type": "code",
   "execution_count": null,
   "metadata": {
    "collapsed": false
   },
   "outputs": [],
   "source": []
  },
  {
   "cell_type": "code",
   "execution_count": null,
   "metadata": {
    "collapsed": true
   },
   "outputs": [],
   "source": []
  }
 ],
 "metadata": {
  "kernelspec": {
   "display_name": "Python 3",
   "language": "python",
   "name": "python3"
  },
  "language_info": {
   "codemirror_mode": {
    "name": "ipython",
    "version": 2
   },
   "file_extension": ".py",
   "mimetype": "text/x-python",
   "name": "python",
   "nbconvert_exporter": "python",
   "pygments_lexer": "ipython2",
   "version": "2.7.13"
  }
 },
 "nbformat": 4,
 "nbformat_minor": 2
}
